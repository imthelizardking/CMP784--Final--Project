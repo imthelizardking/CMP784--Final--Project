{
  "nbformat": 4,
  "nbformat_minor": 0,
  "metadata": {
    "colab": {
      "provenance": [],
      "authorship_tag": "ABX9TyOyVzUie9CAZOM6gjMn5hpm",
      "include_colab_link": true
    },
    "kernelspec": {
      "name": "python3",
      "display_name": "Python 3"
    },
    "language_info": {
      "name": "python"
    }
  },
  "cells": [
    {
      "cell_type": "markdown",
      "metadata": {
        "id": "view-in-github",
        "colab_type": "text"
      },
      "source": [
        "<a href=\"https://colab.research.google.com/github/imthelizardking/CMP784--Final--Project/blob/main/suggestion_model.ipynb\" target=\"_parent\"><img src=\"https://colab.research.google.com/assets/colab-badge.svg\" alt=\"Open In Colab\"/></a>"
      ]
    },
    {
      "cell_type": "markdown",
      "source": [
        "Import and install libraries, dependencies"
      ],
      "metadata": {
        "id": "Hp1uQlJFSml6"
      }
    },
    {
      "cell_type": "code",
      "source": [
        "import tensorflow as tf\n",
        "import numpy as np\n",
        "import os\n",
        "import json"
      ],
      "metadata": {
        "id": "RitIBZ7jSmTz"
      },
      "execution_count": 1,
      "outputs": []
    },
    {
      "cell_type": "markdown",
      "source": [
        "Connect to gdrive"
      ],
      "metadata": {
        "id": "80JpNMo_SEpQ"
      }
    },
    {
      "cell_type": "code",
      "source": [
        "from google.colab import drive\n",
        "drive.mount('/content/gdrive')"
      ],
      "metadata": {
        "colab": {
          "base_uri": "https://localhost:8080/"
        },
        "id": "oeqcX2kmSEd1",
        "outputId": "87a8f8a0-076f-4bea-d832-268154782054"
      },
      "execution_count": 2,
      "outputs": [
        {
          "output_type": "stream",
          "name": "stdout",
          "text": [
            "Mounted at /content/gdrive\n"
          ]
        }
      ]
    },
    {
      "cell_type": "markdown",
      "source": [
        "Import data"
      ],
      "metadata": {
        "id": "q5KZXzdeR_ki"
      }
    },
    {
      "cell_type": "code",
      "source": [
        "# import data, from gdrive\n",
        "dirJson = \"/content/gdrive/MyDrive/cmp784_project_literature/colab repo/test_inputs/\"\n",
        "%cd \"/content/gdrive/MyDrive/cmp784_project_literature/colab repo/test_inputs\""
      ],
      "metadata": {
        "colab": {
          "base_uri": "https://localhost:8080/"
        },
        "id": "hWV0AylKR_Mc",
        "outputId": "fbba04e5-d5d3-451c-df2f-a9e3c3420bd9"
      },
      "execution_count": 3,
      "outputs": [
        {
          "output_type": "stream",
          "name": "stdout",
          "text": [
            "/content/gdrive/MyDrive/cmp784_project_literature/colab repo/test_inputs\n"
          ]
        }
      ]
    },
    {
      "cell_type": "code",
      "source": [
        "json_files = [pos_json for pos_json in os.listdir(dirJson) if pos_json.endswith('.json')] # get all .json anno. files from dir\n",
        "NUM_FEATURES = 13 # number of features (types, color, style etc.)\n",
        "labels_vector = np.zeros((len(json_files),NUM_FEATURES)) # one hot encode matrix\n",
        "counter_outer = 0 # anno. counter\n",
        "# dictionary of clothing types, will be expanded\n",
        "#typeDict ={\n",
        "#    \"vest\": 0, #sets index of type to 0, if item exist index0 will be 1\n",
        "#    \"sling dress\": 1,\n",
        "#    \"short sleeve dress\": 2\n",
        "#}\n",
        "typeDict = {\n",
        "    \"short sleeve top\": 0, # shifted -1 due to \n",
        "    \"long sleeve top\": 1,\n",
        "    \"short sleeve outwear\": 2,\n",
        "    \"long sleeve outwear\": 3,\n",
        "    \"vest\": 4,\n",
        "    \"sling\": 5,\n",
        "    \"shorts\": 6,\n",
        "    \"trousers\": 7,\n",
        "    \"skirt\": 8,\n",
        "    \"short sleeve dress\": 9,\n",
        "    \"long sleeve dres\": 10,\n",
        "    \"vest dress\": 11,\n",
        "    \"sling dress\": 12,\n",
        "}\n",
        "for json_ in json_files:\n",
        "  jsonFile = open(json_, 'r')\n",
        "  values = json.load(jsonFile)\n",
        "  jsonFile.close()\n",
        "  counter_inner = 0\n",
        "  for (k,v) in values.items():\n",
        "    if k.startswith('item'):\n",
        "      labels_vector[counter_outer][typeDict[v[\"category_name\"]]] = 1\n",
        "  counter_outer = counter_outer + 1\n",
        "print(labels_vector)"
      ],
      "metadata": {
        "colab": {
          "base_uri": "https://localhost:8080/"
        },
        "id": "X_nNlqjvcv0N",
        "outputId": "7d18fea2-2951-4452-bc98-d4487004d30e"
      },
      "execution_count": 16,
      "outputs": [
        {
          "output_type": "stream",
          "name": "stdout",
          "text": [
            "[[0. 0. 0. 0. 1. 0. 0. 0. 0. 0. 0. 0. 1.]\n",
            " [0. 0. 0. 0. 0. 0. 0. 0. 0. 1. 0. 0. 0.]\n",
            " [0. 0. 0. 0. 1. 0. 0. 0. 0. 0. 0. 0. 1.]\n",
            " [0. 0. 0. 0. 0. 0. 0. 0. 0. 1. 0. 0. 0.]\n",
            " [0. 0. 0. 0. 0. 0. 0. 0. 0. 0. 0. 1. 0.]\n",
            " [0. 0. 0. 0. 0. 0. 0. 0. 0. 0. 0. 1. 0.]\n",
            " [0. 0. 0. 0. 0. 0. 0. 0. 0. 1. 0. 0. 0.]\n",
            " [0. 0. 0. 0. 0. 0. 0. 0. 0. 1. 0. 0. 0.]\n",
            " [0. 0. 0. 0. 0. 0. 0. 0. 0. 1. 0. 0. 0.]\n",
            " [0. 0. 0. 0. 0. 0. 0. 0. 0. 0. 0. 1. 0.]\n",
            " [1. 0. 0. 0. 0. 0. 0. 0. 0. 0. 0. 0. 0.]\n",
            " [0. 0. 0. 0. 0. 0. 0. 0. 0. 0. 0. 1. 0.]\n",
            " [1. 0. 0. 0. 0. 0. 0. 0. 0. 1. 0. 0. 0.]\n",
            " [0. 1. 0. 0. 0. 0. 0. 1. 0. 0. 0. 0. 0.]\n",
            " [0. 0. 0. 0. 0. 0. 0. 0. 1. 0. 0. 0. 0.]\n",
            " [0. 0. 0. 0. 0. 0. 0. 0. 1. 0. 0. 0. 0.]\n",
            " [0. 0. 0. 0. 0. 0. 0. 0. 1. 0. 0. 0. 0.]\n",
            " [1. 0. 0. 0. 0. 0. 0. 0. 0. 0. 0. 0. 0.]\n",
            " [1. 0. 0. 0. 0. 0. 0. 0. 0. 0. 0. 0. 0.]\n",
            " [1. 0. 0. 0. 0. 0. 0. 0. 0. 0. 0. 0. 0.]\n",
            " [1. 0. 0. 0. 0. 0. 0. 0. 0. 0. 0. 0. 0.]\n",
            " [1. 0. 0. 0. 0. 0. 1. 0. 0. 0. 0. 0. 0.]\n",
            " [0. 1. 0. 0. 0. 0. 0. 0. 0. 0. 0. 0. 0.]\n",
            " [0. 1. 0. 0. 0. 0. 0. 1. 0. 0. 0. 0. 0.]\n",
            " [0. 1. 0. 0. 0. 0. 0. 0. 0. 0. 0. 0. 0.]\n",
            " [0. 0. 0. 0. 0. 0. 0. 1. 0. 1. 0. 0. 0.]\n",
            " [0. 0. 0. 0. 0. 0. 0. 0. 0. 1. 0. 0. 0.]\n",
            " [0. 0. 0. 0. 0. 0. 0. 0. 0. 1. 0. 0. 0.]\n",
            " [0. 0. 0. 0. 0. 0. 0. 0. 0. 1. 0. 0. 0.]\n",
            " [0. 1. 0. 0. 0. 0. 0. 0. 0. 0. 0. 0. 0.]]\n"
          ]
        }
      ]
    },
    {
      "cell_type": "markdown",
      "source": [
        "Trainer:\n",
        "Import tf keras for lstm model"
      ],
      "metadata": {
        "id": "LGm8QDo3Rlro"
      }
    },
    {
      "cell_type": "code",
      "source": [
        "import tensorflow as tf\n",
        "from tensorflow import keras\n",
        "from tensorflow.keras.preprocessing import sequence #gerekmeyebilir\n",
        "from tensorflow.keras.layers import Input, LSTM, Bidirectional, Dense, Embedding #hepsi gerekmeyebilir"
      ],
      "metadata": {
        "id": "FN-J9sY-Ayle"
      },
      "execution_count": 17,
      "outputs": []
    },
    {
      "cell_type": "markdown",
      "source": [
        "LSTM Model:"
      ],
      "metadata": {
        "id": "7Fg4Ie5J34wG"
      }
    },
    {
      "cell_type": "code",
      "source": [
        "model = tf.keras.Sequential([\n",
        "    tf.keras.layers.Embedding(\n",
        "        input_dim=13,\n",
        "        output_dim=13,\n",
        "        # Use masking to handle the variable sequence lengths\n",
        "        mask_zero=True),\n",
        "    #tf.keras.layers.Bidirectional(tf.keras.layers.LSTM(64)), # making LSTM bidirectional\n",
        "    tf.keras.layers.Dense(32, activation='relu'), # FC layer for the classification part\n",
        "    tf.keras.layers.Dense(1) # final FC layer\n",
        "])\n",
        "model.summary()"
      ],
      "metadata": {
        "id": "qrAoYebJ36GR",
        "outputId": "71df0224-7ef8-445c-c05e-24cea5ad6483",
        "colab": {
          "base_uri": "https://localhost:8080/"
        }
      },
      "execution_count": 23,
      "outputs": [
        {
          "output_type": "stream",
          "name": "stdout",
          "text": [
            "Model: \"sequential_2\"\n",
            "_________________________________________________________________\n",
            " Layer (type)                Output Shape              Param #   \n",
            "=================================================================\n",
            " embedding_3 (Embedding)     (None, None, 13)          169       \n",
            "                                                                 \n",
            " dense_4 (Dense)             (None, None, 32)          448       \n",
            "                                                                 \n",
            " dense_5 (Dense)             (None, None, 1)           33        \n",
            "                                                                 \n",
            "=================================================================\n",
            "Total params: 650\n",
            "Trainable params: 650\n",
            "Non-trainable params: 0\n",
            "_________________________________________________________________\n"
          ]
        }
      ]
    },
    {
      "cell_type": "code",
      "execution_count": null,
      "metadata": {
        "id": "gqbrwzD3PkBj"
      },
      "outputs": [],
      "source": [
        "def Trainer(x, weights, biases):\n",
        "  # divide x into two, train and validation"
      ]
    },
    {
      "cell_type": "markdown",
      "source": [
        "Set Trainer Parameters and Train"
      ],
      "metadata": {
        "id": "RRfZWm6_R4sY"
      }
    },
    {
      "cell_type": "code",
      "source": [
        "# trainer param.s an go"
      ],
      "metadata": {
        "id": "eocaVf89R6VA"
      },
      "execution_count": null,
      "outputs": []
    },
    {
      "cell_type": "markdown",
      "source": [
        "Test predictor"
      ],
      "metadata": {
        "id": "Lpw3BWi_Sw5X"
      }
    },
    {
      "cell_type": "code",
      "source": [
        "# test predictor"
      ],
      "metadata": {
        "id": "D_VrppK2Sy4A"
      },
      "execution_count": null,
      "outputs": []
    }
  ]
}