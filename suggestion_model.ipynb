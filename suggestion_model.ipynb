{
  "nbformat": 4,
  "nbformat_minor": 0,
  "metadata": {
    "colab": {
      "provenance": [],
      "authorship_tag": "ABX9TyOOPb4ZQj8CoIt6HilzaUJI",
      "include_colab_link": true
    },
    "kernelspec": {
      "name": "python3",
      "display_name": "Python 3"
    },
    "language_info": {
      "name": "python"
    }
  },
  "cells": [
    {
      "cell_type": "markdown",
      "metadata": {
        "id": "view-in-github",
        "colab_type": "text"
      },
      "source": [
        "<a href=\"https://colab.research.google.com/github/imthelizardking/CMP784--Final--Project/blob/main/suggestion_model.ipynb\" target=\"_parent\"><img src=\"https://colab.research.google.com/assets/colab-badge.svg\" alt=\"Open In Colab\"/></a>"
      ]
    },
    {
      "cell_type": "markdown",
      "source": [
        "Import and install libraries, dependencies"
      ],
      "metadata": {
        "id": "Hp1uQlJFSml6"
      }
    },
    {
      "cell_type": "code",
      "source": [
        "import tensorflow as tf\n",
        "import numpy as np\n",
        "import os\n",
        "import json"
      ],
      "metadata": {
        "id": "RitIBZ7jSmTz"
      },
      "execution_count": 46,
      "outputs": []
    },
    {
      "cell_type": "markdown",
      "source": [
        "Connect to gdrive"
      ],
      "metadata": {
        "id": "80JpNMo_SEpQ"
      }
    },
    {
      "cell_type": "code",
      "source": [
        "from google.colab import drive\n",
        "drive.mount('/content/gdrive')"
      ],
      "metadata": {
        "colab": {
          "base_uri": "https://localhost:8080/"
        },
        "id": "oeqcX2kmSEd1",
        "outputId": "229cc394-5360-4600-8e78-cdefcc7b774c"
      },
      "execution_count": 1,
      "outputs": [
        {
          "output_type": "stream",
          "name": "stdout",
          "text": [
            "Mounted at /content/gdrive\n"
          ]
        }
      ]
    },
    {
      "cell_type": "markdown",
      "source": [
        "Import data"
      ],
      "metadata": {
        "id": "q5KZXzdeR_ki"
      }
    },
    {
      "cell_type": "code",
      "source": [
        "# import data, from gdrive\n",
        "dirJson = \"/content/gdrive/MyDrive/cmp784_project_literature/colab repo/test_inputs/\"\n",
        "%cd \"/content/gdrive/MyDrive/cmp784_project_literature/colab repo/test_inputs\""
      ],
      "metadata": {
        "id": "hWV0AylKR_Mc"
      },
      "execution_count": null,
      "outputs": []
    },
    {
      "cell_type": "markdown",
      "source": [
        "TO-DO: Put labels onto one hot encode vector rows"
      ],
      "metadata": {
        "id": "G3WUA7GKeG0V"
      }
    },
    {
      "cell_type": "code",
      "source": [
        "json_files = [pos_json for pos_json in os.listdir(dirJson) if pos_json.endswith('.json')]\n",
        "labels = [];\n",
        "for json_ in json_files:\n",
        "  jsonFile = open(json_, 'r')\n",
        "  values = json.load(jsonFile)\n",
        "  jsonFile.close()\n",
        "  labels.clear()\n",
        "  for (k,v) in values.items():\n",
        "    if k.startswith('item'):\n",
        "      labels.append(v[\"category_name\"])\n",
        "  print(labels)"
      ],
      "metadata": {
        "id": "X_nNlqjvcv0N"
      },
      "execution_count": null,
      "outputs": []
    },
    {
      "cell_type": "markdown",
      "source": [
        "Format Inputs (zero padding to Don't Care elements)"
      ],
      "metadata": {
        "id": "DIclX_Y-Rv9Z"
      }
    },
    {
      "cell_type": "code",
      "source": [
        "#formatting input"
      ],
      "metadata": {
        "id": "GL93mjjhRvn3"
      },
      "execution_count": null,
      "outputs": []
    },
    {
      "cell_type": "markdown",
      "source": [
        "Trainer:"
      ],
      "metadata": {
        "id": "LGm8QDo3Rlro"
      }
    },
    {
      "cell_type": "code",
      "execution_count": null,
      "metadata": {
        "id": "gqbrwzD3PkBj"
      },
      "outputs": [],
      "source": [
        "def Trainer(x, weights, biases):\n",
        "  "
      ]
    },
    {
      "cell_type": "markdown",
      "source": [
        "Set Trainer Parameters and Train"
      ],
      "metadata": {
        "id": "RRfZWm6_R4sY"
      }
    },
    {
      "cell_type": "code",
      "source": [
        "# trainer param.s an go"
      ],
      "metadata": {
        "id": "eocaVf89R6VA"
      },
      "execution_count": null,
      "outputs": []
    },
    {
      "cell_type": "markdown",
      "source": [
        "Test predictor"
      ],
      "metadata": {
        "id": "Lpw3BWi_Sw5X"
      }
    },
    {
      "cell_type": "code",
      "source": [
        "# test predictor"
      ],
      "metadata": {
        "id": "D_VrppK2Sy4A"
      },
      "execution_count": null,
      "outputs": []
    }
  ]
}